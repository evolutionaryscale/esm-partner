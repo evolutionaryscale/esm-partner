{
 "cells": [
  {
   "cell_type": "code",
   "execution_count": null,
   "metadata": {},
   "outputs": [],
   "source": [
    "# Install esm and other dependencies\n",
    "! pip install boto3\n",
    "! pip install esm\n",
    "! pip install py3Dmol\n",
    "! pip install matplotlib\n",
    "! pip install dna-features-viewer"
   ]
  },
  {
   "cell_type": "code",
   "execution_count": 1,
   "metadata": {},
   "outputs": [],
   "source": [
    "# Uncomment to enable boto3 debug logging.\n",
    "\n",
    "# import boto3\n",
    "# import logging\n",
    "# logging.basicConfig(level=logging.DEBUG)\n",
    "# boto3.set_stream_logger(name=\"botocore\")"
   ]
  },
  {
   "cell_type": "code",
   "execution_count": null,
   "metadata": {},
   "outputs": [],
   "source": [
    "# Set up AWS credentials using your user profile\n",
    "\n",
    "import boto3\n",
    "\n",
    "AWS_REGION='us-east-2'\n",
    "AWS_PROFILE='partner-prem-dev'\n",
    "\n",
    "boto3.setup_default_session(region_name=AWS_REGION, profile_name=AWS_PROFILE)"
   ]
  },
  {
   "cell_type": "code",
   "execution_count": null,
   "metadata": {},
   "outputs": [],
   "source": [
    "# Uncomment to set up AWS credentials manually using the shared service user account.\n",
    "\n",
    "# import os\n",
    "# import boto3\n",
    "\n",
    "# AWS_REGION=\"us-east-2\"\n",
    "# AWS_ACCESS_KEY_ID=\"foo\"\n",
    "# AWS_SECRET_ACCESS_KEY=\"bar\"\n",
    "\n",
    "# session = boto3.setup_default_session(\n",
    "#     aws_access_key_id=AWS_ACCESS_KEY_ID,\n",
    "#     aws_secret_access_key=AWS_SECRET_ACCESS_KEY,\n",
    "#     region_name=AWS_REGION\n",
    "# )"
   ]
  },
  {
   "cell_type": "code",
   "execution_count": 11,
   "metadata": {},
   "outputs": [
    {
     "name": "stdout",
     "output_type": "stream",
     "text": [
      "{'Account': '577638386256',\n",
      " 'Arn': 'arn:aws:iam::577638386256:user/esm-shared-invoke-dev',\n",
      " 'ResponseMetadata': {'HTTPHeaders': {'content-length': '418',\n",
      "                                      'content-type': 'text/xml',\n",
      "                                      'date': 'Mon, 31 Mar 2025 21:44:24 GMT',\n",
      "                                      'x-amzn-requestid': '4e5a0b1d-7873-4745-9258-4d494ef95cda'},\n",
      "                      'HTTPStatusCode': 200,\n",
      "                      'RequestId': '4e5a0b1d-7873-4745-9258-4d494ef95cda',\n",
      "                      'RetryAttempts': 0},\n",
      " 'UserId': 'AIDAYM7POJJIM73IM3WFD'}\n"
     ]
    }
   ],
   "source": [
    "import pprint\n",
    "\n",
    "sts_client = boto3.client(\"sts\", region_name=AWS_REGION)\n",
    "identity = sts_client.get_caller_identity()\n",
    "pprint.pprint(identity)"
   ]
  },
  {
   "cell_type": "code",
   "execution_count": 12,
   "metadata": {},
   "outputs": [],
   "source": [
    "# CLI output:\n",
    "\n",
    "# $ terraform output\n",
    "# sagemaker_endpoints = {\n",
    "#   \"exploratory_model\" = {\n",
    "#     \"endpoint_config_name\" = \"EndpointConfig-Endpoint-ESMC-300M-1-f1eddb86\"\n",
    "#     \"endpoint_name\" = \"Endpoint-ESMC-300M-1-f1eddb86\"\n",
    "#     \"endpoint_url\" = \"https://runtime.sagemaker.us-east-2.amazonaws.com/endpoints/Endpoint-ESMC-300M-1-f1eddb86/invocations\"\n",
    "#     \"forge_model_name\" = \"esmc-300m-2024-12\"\n",
    "#   }\n",
    "# }\n",
    "\n",
    "# Console: https://us-east-2.console.aws.amazon.com/sagemaker/home?region=us-east-2#/endpoints\n",
    "SAGE_ENDPOINT_NAME = \"Endpoint-ESMC-300M-1-2ecf6bf2\"\n",
    "\n",
    "# EvolutionaryScale/Forge Model name (not SageMaker Model Name)\n",
    "# Update from the Forge Console: https://forge.evolutionaryscale.ai/console\n",
    "# Options: esm3-open-2024-03, esmc-300m-2024-12, esmc-600m-2024-12\n",
    "MODEL_NAME = \"esmc-300m-2024-12\""
   ]
  },
  {
   "cell_type": "code",
   "execution_count": 13,
   "metadata": {},
   "outputs": [
    {
     "name": "stdout",
     "output_type": "stream",
     "text": [
      "ForwardTrackData(sequence=tensor([[-38.0000, -38.0000, -38.0000,  12.6250,  21.6250,  22.3750,  22.0000,\n",
      "          21.8750,  21.5000,  21.6250,  21.7500,  21.2500,  20.7500,  21.5000,\n",
      "          21.8750,  20.8750,  20.7500,  20.2500,  20.3750,  20.2500,  21.7500,\n",
      "          19.8750,  19.8750,  19.3750,  18.3750,   1.3750,  -1.5781,  -3.8750,\n",
      "         -20.5000, -38.0000, -38.0000, -38.0000, -38.0000, -38.0000, -38.0000,\n",
      "         -38.0000, -38.0000, -38.0000, -38.0000, -38.0000, -38.0000, -38.0000,\n",
      "         -38.0000, -38.0000, -38.0000, -38.0000, -38.0000, -38.0000, -38.0000,\n",
      "         -38.0000, -38.0000, -38.0000, -38.0000, -38.0000, -38.0000, -38.0000,\n",
      "         -38.0000, -38.0000, -38.0000, -38.0000, -38.0000, -38.0000, -38.0000,\n",
      "         -38.0000],\n",
      "        [-40.0000, -40.0000, -40.0000,   5.4688,  20.1250,  20.0000,  18.7500,\n",
      "          20.6250,  18.8750,  18.3750,  18.6250,  18.5000,  18.2500,  18.0000,\n",
      "          18.7500,  17.7500,  17.5000,  17.1250,  17.7500,  16.8750,  22.1250,\n",
      "          17.2500,  16.6250,  16.8750,  11.7500,  -2.1719,  -3.5000,  -5.2812,\n",
      "         -25.2500, -40.0000, -40.0000, -40.0000, -40.0000, -40.0000, -40.0000,\n",
      "         -40.0000, -40.0000, -40.0000, -40.0000, -40.0000, -40.0000, -40.0000,\n",
      "         -40.0000, -40.0000, -40.0000, -40.0000, -40.0000, -40.0000, -40.0000,\n",
      "         -40.0000, -40.0000, -40.0000, -40.0000, -40.0000, -40.0000, -40.0000,\n",
      "         -40.0000, -40.0000, -40.0000, -40.0000, -40.0000, -40.0000, -40.0000,\n",
      "         -40.0000],\n",
      "        [-36.2500, -36.2500, -36.2500,  13.2500,  27.3750,  28.1250,  27.0000,\n",
      "          27.1250,  26.7500,  26.7500,  26.8750,  26.7500,  26.3750,  26.2500,\n",
      "          26.6250,  26.2500,  25.7500,  25.3750,  25.8750,  25.2500,  25.7500,\n",
      "          25.3750,  24.8750,  25.0000,  17.7500,  -4.1562,  -4.0625,  -7.3438,\n",
      "         -19.0000, -36.2500, -36.2500, -36.2500, -36.2500, -36.2500, -36.2500,\n",
      "         -36.2500, -36.2500, -36.2500, -36.2500, -36.2500, -36.2500, -36.2500,\n",
      "         -36.2500, -36.2500, -36.2500, -36.2500, -36.2500, -36.2500, -36.2500,\n",
      "         -36.2500, -36.2500, -36.2500, -36.2500, -36.2500, -36.2500, -36.2500,\n",
      "         -36.2500, -36.2500, -36.2500, -36.2500, -36.2500, -36.2500, -36.2500,\n",
      "         -36.2500],\n",
      "        [-36.7500, -36.5000, -36.7500,  12.8750,  27.1250,  28.1250,  26.7500,\n",
      "          27.1250,  26.6250,  26.6250,  26.6250,  26.6250,  26.3750,  26.1250,\n",
      "          26.5000,  26.0000,  25.6250,  25.2500,  25.7500,  25.0000,  25.6250,\n",
      "          25.2500,  24.6250,  24.8750,  17.5000,  -4.1250,  -4.7500,  -7.7188,\n",
      "         -19.3750, -36.7500, -36.7500, -36.7500, -36.7500, -36.7500, -36.7500,\n",
      "         -36.7500, -36.7500, -36.7500, -36.7500, -36.7500, -36.7500, -36.7500,\n",
      "         -36.7500, -36.7500, -36.7500, -36.7500, -36.7500, -36.7500, -36.7500,\n",
      "         -36.7500, -36.7500, -36.7500, -36.7500, -36.7500, -36.7500, -36.7500,\n",
      "         -36.7500, -36.7500, -36.7500, -36.7500, -36.7500, -36.7500, -36.7500,\n",
      "         -36.7500],\n",
      "        [-37.0000, -37.0000, -37.0000,  13.3750,  27.1250,  28.1250,  26.8750,\n",
      "          27.0000,  26.7500,  26.5000,  26.7500,  26.6250,  26.2500,  26.1250,\n",
      "          26.6250,  26.1250,  25.7500,  25.3750,  25.7500,  25.0000,  25.5000,\n",
      "          25.3750,  24.7500,  25.0000,  17.5000,  -4.1562,  -3.7969,  -7.9062,\n",
      "         -20.1250, -37.0000, -37.0000, -37.0000, -37.0000, -37.0000, -37.0000,\n",
      "         -37.0000, -37.0000, -37.0000, -37.0000, -37.0000, -37.0000, -37.0000,\n",
      "         -37.0000, -37.0000, -37.0000, -37.0000, -37.0000, -37.0000, -37.0000,\n",
      "         -37.0000, -37.0000, -37.0000, -37.0000, -37.0000, -37.0000, -37.0000,\n",
      "         -37.0000, -37.0000, -37.0000, -37.0000, -37.0000, -37.0000, -37.0000,\n",
      "         -37.0000],\n",
      "        [-33.5000, -33.5000, -33.5000,  25.6250,  23.8750,  24.8750,  24.0000,\n",
      "          23.7500,  23.7500,  23.3750,  24.0000,  23.5000,  22.8750,  22.8750,\n",
      "          23.3750,  22.8750,  22.5000,  22.1250,  22.5000,  21.6250,  22.0000,\n",
      "          22.1250,  22.1250,  22.0000,  17.7500,   4.1250,   4.5938,   1.7500,\n",
      "         -21.1250, -33.7500, -33.7500, -33.5000, -33.7500, -33.7500, -33.7500,\n",
      "         -33.5000, -33.7500, -33.5000, -33.5000, -33.7500, -33.5000, -33.7500,\n",
      "         -33.7500, -33.5000, -33.7500, -33.7500, -33.7500, -33.7500, -33.7500,\n",
      "         -33.7500, -33.7500, -33.5000, -33.7500, -33.7500, -33.7500, -33.7500,\n",
      "         -33.5000, -33.7500, -33.7500, -33.5000, -33.7500, -33.7500, -33.7500,\n",
      "         -33.7500],\n",
      "        [-33.0000, -33.0000, -33.0000,  24.7500,  22.7500,  24.5000,  23.1250,\n",
      "          22.8750,  23.1250,  22.5000,  23.2500,  22.7500,  21.7500,  22.2500,\n",
      "          23.1250,  22.1250,  22.0000,  21.5000,  21.3750,  20.7500,  21.2500,\n",
      "          21.2500,  20.7500,  21.1250,  19.8750,   5.5312,   5.0625,   2.5938,\n",
      "         -20.1250, -33.0000, -33.0000, -33.0000, -33.0000, -33.0000, -33.0000,\n",
      "         -33.0000, -33.0000, -33.0000, -33.0000, -33.0000, -33.0000, -33.0000,\n",
      "         -33.0000, -33.0000, -33.0000, -33.0000, -33.0000, -33.0000, -33.0000,\n",
      "         -33.0000, -33.0000, -33.0000, -33.0000, -33.0000, -33.0000, -33.0000,\n",
      "         -33.0000, -33.0000, -33.0000, -33.0000, -33.0000, -33.0000, -33.0000,\n",
      "         -33.0000]]), structure=None, secondary_structure=None, sasa=None, function=None) tensor([[[ 0.0093, -0.0087,  0.0034,  ...,  0.0175,  0.0097, -0.0062],\n",
      "         [ 0.0049, -0.0244,  0.0276,  ...,  0.0574,  0.0283,  0.0109],\n",
      "         [ 0.0129, -0.0459, -0.0078,  ...,  0.0452,  0.0125, -0.0078],\n",
      "         ...,\n",
      "         [ 0.0090, -0.0461, -0.0148,  ...,  0.0344,  0.0060,  0.0028],\n",
      "         [ 0.0215, -0.0347, -0.0198,  ...,  0.0164,  0.0005, -0.0046],\n",
      "         [-0.0024, -0.0214, -0.0204,  ..., -0.0037, -0.0013, -0.0177]]])\n"
     ]
    }
   ],
   "source": [
    "from esm.sdk.sagemaker import ESM3SageMakerClient\n",
    "from esm.sdk.api import ESMProtein, LogitsConfig\n",
    "\n",
    "sagemaker_client = ESM3SageMakerClient(\n",
    "   # E.g. \"Endpoint-ESMC-6B-1\"\n",
    "   endpoint_name=SAGE_ENDPOINT_NAME,\n",
    "   # E.g. \"esmc-6b-2024-12\". Same model names as in Forge.\n",
    "   model=MODEL_NAME\n",
    ")\n",
    "\n",
    "protein = ESMProtein(sequence=\"AAAAA\")\n",
    "protein_tensor = sagemaker_client.encode(protein)\n",
    "logits_output = sagemaker_client.logits(\n",
    "   protein_tensor, LogitsConfig(sequence=True, return_embeddings=True)\n",
    ")\n",
    "print(logits_output.logits, logits_output.embeddings)"
   ]
  }
 ],
 "metadata": {
  "kernelspec": {
   "display_name": ".venv",
   "language": "python",
   "name": "python3"
  },
  "language_info": {
   "codemirror_mode": {
    "name": "ipython",
    "version": 3
   },
   "file_extension": ".py",
   "mimetype": "text/x-python",
   "name": "python",
   "nbconvert_exporter": "python",
   "pygments_lexer": "ipython3",
   "version": "3.13.2"
  }
 },
 "nbformat": 4,
 "nbformat_minor": 2
}
