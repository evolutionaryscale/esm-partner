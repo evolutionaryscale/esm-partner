{
 "cells": [
  {
   "cell_type": "code",
   "execution_count": null,
   "metadata": {},
   "outputs": [],
   "source": [
    "# Install esm and other dependencies\n",
    "! pip install boto3\n",
    "# ! pip install esm\n",
    "! pip install esm==3.1.1\n",
    "! pip install py3Dmol\n",
    "! pip install matplotlib\n",
    "! pip install dna-features-viewer"
   ]
  },
  {
   "cell_type": "code",
   "execution_count": null,
   "metadata": {},
   "outputs": [],
   "source": [
    "# Uncomment to enable boto3 debug logging.\n",
    "\n",
    "# import boto3\n",
    "# import logging\n",
    "# logging.basicConfig(level=logging.DEBUG)\n",
    "# boto3.set_stream_logger(name=\"botocore\")"
   ]
  },
  {
   "cell_type": "code",
   "execution_count": null,
   "metadata": {},
   "outputs": [],
   "source": [
    "import boto3\n",
    "\n",
    "AWS_REGION='us-east-2'\n",
    "AWS_PROFILE='partner-prem-dev'\n",
    "\n",
    "boto3.setup_default_session(region_name=AWS_REGION, profile_name=AWS_PROFILE)"
   ]
  },
  {
   "cell_type": "code",
   "execution_count": null,
   "metadata": {},
   "outputs": [],
   "source": [
    "# CLI output:\n",
    "\n",
    "# $ terraform output\n",
    "# sagemaker_endpoints = {\n",
    "#   \"exploratory_model\" = {\n",
    "#     \"endpoint_config_name\" = \"EndpointConfig-Endpoint-ESMC-300M-1-f1eddb86\"\n",
    "#     \"endpoint_name\" = \"Endpoint-ESMC-300M-1-f1eddb86\"\n",
    "#     \"endpoint_url\" = \"https://runtime.sagemaker.us-east-2.amazonaws.com/endpoints/Endpoint-ESMC-300M-1-f1eddb86/invocations\"\n",
    "#     \"forge_model_name\" = \"esmc-300m-2024-12\"\n",
    "#   }\n",
    "# }\n",
    "\n",
    "# Console: https://us-east-2.console.aws.amazon.com/sagemaker/home?region=us-east-2#/endpoints\n",
    "SAGE_ENDPOINT_NAME = \"Endpoint-ESMC-300M-1\"\n",
    "SAGE_ENDPOINT_NAME = \"Endpoint-ESMC-300M-1-f1eddb86\"\n",
    "\n",
    "# EvolutionaryScale/Forge Model name (not SageMaker Model Name)\n",
    "# Update from the Forge Console: https://forge.evolutionaryscale.ai/console\n",
    "# Options: esm3-open-2024-03, esmc-300m-2024-12, esmc-600m-2024-12\n",
    "MODEL_NAME = \"esmc-300m-2024-12\""
   ]
  },
  {
   "cell_type": "code",
   "execution_count": null,
   "metadata": {},
   "outputs": [],
   "source": [
    "from esm.sdk.sagemaker import ESM3SageMakerClient\n",
    "from esm.sdk.api import ESMProtein, LogitsConfig\n",
    "\n",
    "sagemaker_client = ESM3SageMakerClient(\n",
    "   # E.g. \"Endpoint-ESMC-6B-1\"\n",
    "   endpoint_name=SAGE_ENDPOINT_NAME,\n",
    "   # E.g. \"esmc-6b-2024-12\". Same model names as in Forge.\n",
    "   model=MODEL_NAME\n",
    ")\n",
    "\n",
    "protein = ESMProtein(sequence=\"AAAAA\")\n",
    "protein_tensor = sagemaker_client.encode(protein)\n",
    "logits_output = sagemaker_client.logits(\n",
    "   protein_tensor, LogitsConfig(sequence=True, return_embeddings=True)\n",
    ")\n",
    "print(logits_output.logits, logits_output.embeddings)"
   ]
  }
 ],
 "metadata": {
  "kernelspec": {
   "display_name": ".venv",
   "language": "python",
   "name": "python3"
  },
  "language_info": {
   "codemirror_mode": {
    "name": "ipython",
    "version": 3
   },
   "file_extension": ".py",
   "mimetype": "text/x-python",
   "name": "python",
   "nbconvert_exporter": "python",
   "pygments_lexer": "ipython3",
   "version": "3.13.2"
  }
 },
 "nbformat": 4,
 "nbformat_minor": 2
}
